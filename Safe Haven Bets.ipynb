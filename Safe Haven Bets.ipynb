{
 "cells": [
  {
   "cell_type": "code",
   "execution_count": 10,
   "metadata": {},
   "outputs": [],
   "source": [
    "import pandas as pd\n",
    "import numpy as np\n",
    "import matplotlib.pyplot as plt\n",
    "import statistics\n",
    "import math\n",
    "import random"
   ]
  },
  {
   "cell_type": "code",
   "execution_count": 2,
   "metadata": {},
   "outputs": [],
   "source": [
    "class StockData():\n",
    "    \n",
    "    def __init__(self, closing_price, date_ddmmyyyy):\n",
    "        '''\n",
    "        Initialize the instance with an iterable of closing_price and date_ddmmyyyy. Returns None\n",
    "        \n",
    "        '''\n",
    "        self.closing_price= closing_price\n",
    "        self.date_ddmmyyyy = date_ddmmyyyy\n",
    "        return None\n",
    "        \n",
    "        \n",
    "    def YearlyChange(self):\n",
    "        '''\n",
    "        This function takes closing price and date and then returns an iterable of % yaerly changes\n",
    "        \n",
    "        '''\n",
    "        assert len(self.closing_price) == len(self.date_ddmmyyyy), 'The length of date and closing_price are not equal'\n",
    "        yearly_percent_change = []\n",
    "        i, j = 0, 0\n",
    "        while( i < len(self.closing_price)):\n",
    "            #print(i)\n",
    "            #j = i\n",
    "            final_closing_price = self.closing_price[i]\n",
    "            while(j+1<len(self.closing_price)):\n",
    "                    #print(i)\n",
    "                if(self.date_ddmmyyyy[j][7:] == self.date_ddmmyyyy[j+1][7:]):\n",
    "                    if(j == len(self.closing_price)):\n",
    "                        pass\n",
    "                    else:\n",
    "                        j = j+1\n",
    "                else:\n",
    "                    #print(j)\n",
    "                    break\n",
    "                #i = j\n",
    "            if (j<len(self.closing_price)-1):\n",
    "                initial_closing_price = self.closing_price[j+1]\n",
    "            else:\n",
    "                initial_closing_price = self.closing_price[j]\n",
    "            yearly_percent_change.append((final_closing_price - initial_closing_price)*100/initial_closing_price)                \n",
    "            i = j+1\n",
    "            j = j+1\n",
    "            if(j == len(self.closing_price)-1):\n",
    "                break\n",
    "                  \n",
    "        return yearly_percent_change\n",
    "    \n",
    "    \n",
    "    def MonthlyChange(self):\n",
    "        assert len(self.closing_price) == len(self.date_ddmmyyyy), 'The length of date and closing_price are not equal'\n",
    "        monthly_percent_change = []\n",
    "        i, j = 0, 0\n",
    "        while( i < len(self.closing_price)):\n",
    "            #print(i)\n",
    "            #j = i\n",
    "            final_closing_price = self.closing_price[i]\n",
    "            while(j+1<len(self.closing_price)):\n",
    "                    #print(i)\n",
    "                if(self.date_ddmmyyyy[j][3:5] == self.date_ddmmyyyy[j+1][3:5]):\n",
    "                    if(j == len(self.closing_price)):\n",
    "                        pass\n",
    "                    else:\n",
    "                        j = j+1\n",
    "                else:\n",
    "                    #print(j)\n",
    "                    break\n",
    "                #i = j\n",
    "            if (j<len(self.closing_price)-1):\n",
    "                initial_closing_price = self.closing_price[j+1]\n",
    "            else:\n",
    "                initial_closing_price = self.closing_price[j]\n",
    "            monthly_percent_change.append((final_closing_price - initial_closing_price)*100/initial_closing_price)                \n",
    "            i = j+1\n",
    "            j = j+1\n",
    "            if(j == len(self.closing_price)-1):\n",
    "                break\n",
    "        return monthly_percent_change"
   ]
  },
  {
   "cell_type": "code",
   "execution_count": 3,
   "metadata": {},
   "outputs": [],
   "source": [
    "df_nifty_safe_haven = pd.read_csv(\"C://Users/Prithvi Krishna/Documents/Safe Haven/Nifty Data for Safe Haven.csv\")"
   ]
  },
  {
   "cell_type": "code",
   "execution_count": null,
   "metadata": {},
   "outputs": [],
   "source": []
  },
  {
   "cell_type": "code",
   "execution_count": 4,
   "metadata": {},
   "outputs": [],
   "source": [
    "nifty_50 = StockData(df_nifty_safe_haven['Close'], df_nifty_safe_haven['Date'])"
   ]
  },
  {
   "cell_type": "code",
   "execution_count": 5,
   "metadata": {},
   "outputs": [
    {
     "data": {
      "text/plain": [
       "232"
      ]
     },
     "execution_count": 5,
     "metadata": {},
     "output_type": "execute_result"
    }
   ],
   "source": [
    "len(nifty_50.MonthlyChange())"
   ]
  },
  {
   "cell_type": "code",
   "execution_count": 26,
   "metadata": {},
   "outputs": [],
   "source": [
    "class IndexRandomWalk(StockData):\n",
    "    \n",
    "    def __init__(self, investment_horizon, num_of_iterations, year =1, *args):\n",
    "        #assert type(self.change_data) is list, \"Change Data provided is not in a list\" \n",
    "        #self.change_data = change_data\n",
    "        self.year = year\n",
    "        self.investment_horizon = investment_horizon\n",
    "        self.num_of_iterations = num_of_iterations\n",
    "        super().__init__(*args)\n",
    "        \n",
    "    def GeometricWalkIndex(self):\n",
    "        import random\n",
    "        import math\n",
    "        import statistics\n",
    "        import numpy as np\n",
    "        #final_investment = 1\n",
    "        collection_iter = []\n",
    "        if(self.year == 1):\n",
    "            change_array = np.array(self.YearlyChange())\n",
    "            for i in range(self.num_of_iterations):\n",
    "                final_investment = 1\n",
    "                for i in range(self.investment_horizon):\n",
    "                    final_investment = final_investment*(1+ 0.01*random.choice(change_array))\n",
    "            \n",
    "                collection_iter.append(final_investment)\n",
    "        else:\n",
    "            change_array = np.array(self.MonthlyChange())\n",
    "            for i in range(self.num_of_iterations):\n",
    "                final_investment = 1\n",
    "                for i in range(self.investment_horizon*12):\n",
    "                    final_investment = final_investment*(1+ 0.01*random.choice(change_array))\n",
    "\n",
    "                collection_iter.append(final_investment)\n",
    "                \n",
    "        median_final_investment = statistics.median(collection_iter)\n",
    "        fifth_percentile_investment = np.percentile(np.array(collection_iter), 5)\n",
    "        return collection_iter\n",
    "        #return median_final_investment, fifth_percentile_investment\n",
    "    \n",
    "    \n",
    "    def GeometricWalkIndexFixed(self, fixed_rate):\n",
    "        self.fixed_rate = fixed_rate\n",
    "        \n",
    "        #dict_median_fifth = dict()\n",
    "        median_dict = {}\n",
    "        fifth_perc_dict = {}\n",
    "        if(self.year == 1):\n",
    "            change_array = np.array(self.YearlyChange())\n",
    "            for j in range(1,101):\n",
    "                collection_iter = []\n",
    "                fraction = j/100\n",
    "                for i in range(self.num_of_iterations):\n",
    "                    final_investment = 1\n",
    "                    for k in range(self.investment_horizon):\n",
    "                        final_investment = final_investment* (fraction * (1+ 0.01*random.choice(change_array)) + (1-fraction)*(1+self.fixed_rate))\n",
    "                    collection_iter.append(final_investment)\n",
    "                median_final_investment = statistics.median(collection_iter)\n",
    "                median_dict[j] = (median_final_investment)\n",
    "                fifth_percentile_investment = np.percentile(np.array(collection_iter), 5)\n",
    "                fifth_perc_dict[j] = (fifth_percentile_investment)\n",
    "        else:\n",
    "            change_array = np.array(self.MonthlyChange())\n",
    "            for j in range(1,101):\n",
    "                collection_iter = []\n",
    "                fraction = j/100\n",
    "                for i in range(self.num_of_iterations):\n",
    "                    final_investment = 1\n",
    "                    for k in range(12*self.investment_horizon):\n",
    "                        final_investment = final_investment* (fraction * (1+ 0.01*random.choice(change_array)) + (1-fraction)*(1+self.fixed_rate))\n",
    "                    collection_iter.append(final_investment)\n",
    "                median_final_investment = statistics.median(collection_iter)\n",
    "                median_dict[j] = median_final_investment\n",
    "                fifth_percentile_investment = np.percentile(np.array(collection_iter), 5)\n",
    "                fifth_perc_dict[j] = fifth_percentile_investment\n",
    "        return median_dict, fifth_perc_dict\n",
    "    \n",
    "\n",
    "    \n",
    "    def GeometricWalkIndexInsurance(self, payoff, index_returns_bucket):\n",
    "        self.payoff = payoff\n",
    "        self.index_returns_bucket = index_returns_bucket\n",
    "        #GeometricWalkIndex(self):\n",
    "        \n",
    "        #final_investment = 1\n",
    "        median_dict = {}\n",
    "        fifth_perc_dict = {}\n",
    "        #median_returns_list = []\n",
    "        #fifth_perc_returns_list = []\n",
    "        if(self.year == 1):\n",
    "            change_array = np.array(self.YearlyChange())\n",
    "            for j in range(1,101):\n",
    "                collection_iter = []\n",
    "                fraction = j/100\n",
    "                for i in range(self.num_of_iterations):\n",
    "                    final_investment = 1\n",
    "                    for k in range(self.investment_horizon):\n",
    "                        index_returns = random.choice(change_array)\n",
    "                        if (index_returns <= index_returns_bucket):\n",
    "                            final_investment = final_investment* (fraction * (1+ 0.01*index_returns) + (1-fraction)*(1+self.payoff* fraction))\n",
    "                        else:\n",
    "                            final_investment = fraction * final_investment*(1+ 0.01*index_returns)\n",
    "\n",
    "                    collection_iter.append(final_investment)\n",
    "                median_final_investment = statistics.median(collection_iter)\n",
    "                median_dict[fraction] = (median_final_investment)\n",
    "                #median_returns_list.append((median_final_investment)**(1/self.investment_horizon)-1)\n",
    "                \n",
    "                fifth_percentile_investment = np.percentile(np.array(collection_iter), 5)\n",
    "                fifth_perc_dict[fraction] = (fifth_percentile_investment)\n",
    "                #fifth_perc_returns_list.append((fifth_percentile_investment)**(1/self.investment_horizon)-1)\n",
    "        else:\n",
    "            change_array = np.array(self.MonthlyChange())\n",
    "            for j in range(1,101):\n",
    "                collection_iter = []\n",
    "                fraction = j/100\n",
    "                for i in range(self.num_of_iterations):\n",
    "                    final_investment = 1\n",
    "                    for k in range(self.investment_horizon*12):\n",
    "                        index_returns = random.choice(change_array)\n",
    "                        if (index_returns <= index_returns_bucket):\n",
    "                            final_investment = final_investment* (fraction * (1+ 0.01*index_returns) + (1-fraction)*(1+self.payoff* fraction))\n",
    "                        else:\n",
    "                            final_investment = fraction * final_investment*(1+ 0.01*index_returns)\n",
    "                    collection_iter.append(final_investment)\n",
    "                median_final_investment = statistics.median(collection_iter)\n",
    "                median_dict[fraction] = (median_final_investment)\n",
    "                #median_returns_list.append((median_final_investment)**(1/self.investment_horizon)-1)\n",
    "                \n",
    "                fifth_percentile_investment = np.percentile(np.array(collection_iter), 5)\n",
    "                fifth_perc_dict[fraction] = (fifth_percentile_investment)\n",
    "                #fifth_perc_returns_list.append((fifth_percentile_investment)**(1/self.investment_horizon*12)-1)\n",
    "        return median_dict, fifth_perc_dict #median_returns_list, fifth_perc_returns_list\n",
    "    \n",
    "    \n",
    "    #\n",
    "    #def GeometricWalkIndexInsurance\n",
    "    "
   ]
  },
  {
   "cell_type": "code",
   "execution_count": 189,
   "metadata": {},
   "outputs": [
    {
     "data": {
      "text/plain": [
       "True"
      ]
     },
     "execution_count": 189,
     "metadata": {},
     "output_type": "execute_result"
    }
   ],
   "source": [
    "type(nifty_50.MonthlyChange()) is list"
   ]
  },
  {
   "cell_type": "code",
   "execution_count": 21,
   "metadata": {},
   "outputs": [],
   "source": [
    "nifty_random_walk = IndexRandomWalk(25, 20000, 1, df_nifty_safe_haven['Close'], df_nifty_safe_haven['Date'])"
   ]
  },
  {
   "cell_type": "code",
   "execution_count": 22,
   "metadata": {},
   "outputs": [],
   "source": [
    "index_only_wealth = nifty_random_walk.GeometricWalkIndex()"
   ]
  },
  {
   "cell_type": "code",
   "execution_count": 42,
   "metadata": {},
   "outputs": [
    {
     "name": "stdout",
     "output_type": "stream",
     "text": [
      "Median wealth: 18.313, Fifth percentile wealth: 1.712\n",
      "Median returns Percentage: 12.334, Fifth percentile returns Percentage: 2.175\n"
     ]
    }
   ],
   "source": [
    "index_only_median_wealth = statistics.median(index_only_wealth)\n",
    "index_only_fifth_perc_wealth = np.percentile(index_only_wealth, 5)\n",
    "print(\"Median wealth: {:.3f}, Fifth percentile wealth: {:.3f}\".format(index_only_median_wealth, index_only_fifth_perc_wealth))\n",
    "print(\"Median returns Percentage: {:.3f}, Fifth percentile returns Percentage: {:.3f}\".format((index_only_median_wealth**0.04-1)*100, (index_only_fifth_perc_wealth**0.04-1)*100))"
   ]
  },
  {
   "cell_type": "code",
   "execution_count": 27,
   "metadata": {},
   "outputs": [],
   "source": [
    "fixed_and_index_returns = nifty_random_walk.GeometricWalkIndexFixed(0.06)"
   ]
  },
  {
   "cell_type": "code",
   "execution_count": 35,
   "metadata": {},
   "outputs": [
    {
     "data": {
      "text/plain": [
       "<matplotlib.legend.Legend at 0x1c60e8f9f48>"
      ]
     },
     "execution_count": 35,
     "metadata": {},
     "output_type": "execute_result"
    },
    {
     "data": {
      "image/png": "[encoded data removed]",
      "text/plain": [
       "<Figure size 432x288 with 1 Axes>"
      ]
     },
     "metadata": {
      "needs_background": "light"
     },
     "output_type": "display_data"
    }
   ],
   "source": [
    "x_axis = list(fixed_and_index_returns[0].keys())\n",
    "y_axis_median = list(fixed_and_index_returns[0].values())\n",
    "y_axis_fifth_perc= list(fixed_and_index_returns[1].values())\n",
    "plt.plot(x_axis, y_axis_median, 'r--')\n",
    "\n",
    "plt.plot(x_axis, y_axis_fifth_perc, 'b--')\n",
    "plt.xlabel('Fraction allocation to Index Fund')\n",
    "plt.ylabel('Final Wealth')\n",
    "plt.legend([ 'Median wealth', 'Fifth percntile wealth'],loc = 'upper left')"
   ]
  },
  {
   "cell_type": "code",
   "execution_count": 36,
   "metadata": {},
   "outputs": [],
   "source": [
    "insur_index_wealth = nifty_random_walk.GeometricWalkIndexInsurance(10, -10)"
   ]
  },
  {
   "cell_type": "code",
   "execution_count": 37,
   "metadata": {},
   "outputs": [
    {
     "data": {
      "text/plain": [
       "<matplotlib.legend.Legend at 0x1c60fbcd908>"
      ]
     },
     "execution_count": 37,
     "metadata": {},
     "output_type": "execute_result"
    },
    {
     "data": {
      "image/png": "[encoded data removed]",
      "text/plain": [
       "<Figure size 432x288 with 1 Axes>"
      ]
     },
     "metadata": {
      "needs_background": "light"
     },
     "output_type": "display_data"
    }
   ],
   "source": [
    "x_axis = list(insur_index_wealth[0].keys())\n",
    "y_axis_median = list(insur_index_wealth[0].values())\n",
    "y_axis_fifth_perc= list(insur_index_wealth[1].values())\n",
    "plt.plot(x_axis, y_axis_median, 'r--')\n",
    "\n",
    "plt.plot(x_axis, y_axis_fifth_perc, 'b--')\n",
    "plt.xlabel('Fraction allocation to Index Fund')\n",
    "plt.ylabel('Final Wealth')\n",
    "plt.legend([ 'Median wealth', 'Fifth percntile wealth'],loc = 'upper left')"
   ]
  },
  {
   "cell_type": "code",
   "execution_count": null,
   "metadata": {},
   "outputs": [],
   "source": []
  }
 ],
 "metadata": {
  "kernelspec": {
   "display_name": "Python 3",
   "language": "python",
   "name": "python3"
  },
  "language_info": {
   "codemirror_mode": {
    "name": "ipython",
    "version": 3
   },
   "file_extension": ".py",
   "mimetype": "text/x-python",
   "name": "python",
   "nbconvert_exporter": "python",
   "pygments_lexer": "ipython3",
   "version": "3.7.6"
  }
 },
 "nbformat": 4,
 "nbformat_minor": 4
}
